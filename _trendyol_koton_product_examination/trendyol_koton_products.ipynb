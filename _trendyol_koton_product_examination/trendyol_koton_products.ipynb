{
 "cells": [
  {
   "cell_type": "markdown",
   "id": "567668e2",
   "metadata": {},
   "source": [
    "### Importing Libraries and Checking Permission of Scraping"
   ]
  },
  {
   "cell_type": "code",
   "execution_count": 38,
   "id": "345a6f72",
   "metadata": {
    "scrolled": true
   },
   "outputs": [
    {
     "data": {
      "text/plain": [
       "<Response [200]>"
      ]
     },
     "execution_count": 38,
     "metadata": {},
     "output_type": "execute_result"
    }
   ],
   "source": [
    "from bs4 import BeautifulSoup\n",
    "import requests\n",
    "url=\"https://www.trendyol.com/sr?q=koton&qt=koton&st=koton&os=1&pi=1\"\n",
    "html_text=requests.get(url)\n",
    "html_text"
   ]
  },
  {
   "cell_type": "markdown",
   "id": "35d2c5e6",
   "metadata": {},
   "source": [
    "### Finding URLs to Scrape"
   ]
  },
  {
   "cell_type": "code",
   "execution_count": 66,
   "id": "5121c5d9",
   "metadata": {},
   "outputs": [],
   "source": [
    "part=\"https://www.trendyol.com/sr?q=koton&qt=koton&st=koton&os=1&pi=\"\n",
    "urls=[]\n",
    "urls.append(url)\n",
    "for i in range(2,70):\n",
    "    new_url=part+str(i)\n",
    "    urls.append(new_url)"
   ]
  },
  {
   "cell_type": "markdown",
   "id": "b4f8a232",
   "metadata": {},
   "source": [
    "### Pulling Data in XML Format & Extracting Features of Product"
   ]
  },
  {
   "cell_type": "code",
   "execution_count": 84,
   "id": "c83e6a51",
   "metadata": {},
   "outputs": [],
   "source": [
    "with open(\"trendyol.txt\",\"w\",encoding=\"utf-8\") as f:    \n",
    "    f.write(\"Brand Name,Product Name,Price (TL),Number of Reviews\")\n",
    "    for url in urls:\n",
    "        html_text=requests.get(url)\n",
    "        soup=BeautifulSoup(html_text.text,\"lxml\")\n",
    "        prods=soup.find_all(\"div\",class_=\"p-card-wrppr\")\n",
    "        for prod in prods:\n",
    "            try:\n",
    "                brand=prod.find(\"span\",class_=\"prdct-desc-cntnr-ttl\").text\n",
    "            except:\n",
    "                brand = None\n",
    "            try:\n",
    "                prods_name=prod.find(\"span\",class_=\"prdct-desc-cntnr-name hasRatings\").text\n",
    "            except:\n",
    "                prods_name = None\n",
    "            try:\n",
    "                price_in_tl=prod.find(\"div\",class_=\"prc-box-dscntd\").text.split()[0]\n",
    "                price=price_in_tl.split(\",\")\n",
    "                if len(price)==2:\n",
    "                    price_in_tl=price[1]\n",
    "            except:\n",
    "                price_in_tl = None\n",
    "            try:\n",
    "                review_count=prod.find(\"span\",class_=\"ratingCount\").text\n",
    "            except:\n",
    "                review_count = None\n",
    "\n",
    "            f.write(brand+\",\")\n",
    "            f.write(str(prods_name)+\",\")\n",
    "            f.write(price_in_tl+\",\")\n",
    "            f.write(str(review_count))\n",
    "            f.write(\"\\n\")\n",
    "            \n",
    "f.close()"
   ]
  },
  {
   "cell_type": "markdown",
   "id": "62e0d731",
   "metadata": {},
   "source": [
    "###### For individual extraction of data,"
   ]
  },
  {
   "cell_type": "code",
   "execution_count": 85,
   "id": "9befea8c",
   "metadata": {},
   "outputs": [
    {
     "data": {
      "text/plain": [
       "'brand=soup.find(\"span\",class_=\"prdct-desc-cntnr-ttl\").text\\nprod=soup.find(\"span\",class_=\"prdct-desc-cntnr-name hasRatings\").text\\nprice_in_tl=soup.find(\"div\",class_=\"prc-box-dscntd\").text.split()[0]\\nreview_count=soup.find(\"span\",class_=\"ratingCount\").text'"
      ]
     },
     "execution_count": 85,
     "metadata": {},
     "output_type": "execute_result"
    }
   ],
   "source": [
    "\"\"\"brand=soup.find(\"span\",class_=\"prdct-desc-cntnr-ttl\").text\n",
    "prod=soup.find(\"span\",class_=\"prdct-desc-cntnr-name hasRatings\").text\n",
    "price_in_tl=soup.find(\"div\",class_=\"prc-box-dscntd\").text.split()[0]\n",
    "review_count=soup.find(\"span\",class_=\"ratingCount\").text\"\"\""
   ]
  },
  {
   "cell_type": "code",
   "execution_count": 57,
   "id": "ca5a6787",
   "metadata": {},
   "outputs": [],
   "source": []
  },
  {
   "cell_type": "code",
   "execution_count": 58,
   "id": "3bd9ad71",
   "metadata": {},
   "outputs": [],
   "source": []
  },
  {
   "cell_type": "code",
   "execution_count": null,
   "id": "9d2817b4",
   "metadata": {},
   "outputs": [],
   "source": []
  }
 ],
 "metadata": {
  "kernelspec": {
   "display_name": "Python 3",
   "language": "python",
   "name": "python3"
  },
  "language_info": {
   "codemirror_mode": {
    "name": "ipython",
    "version": 3
   },
   "file_extension": ".py",
   "mimetype": "text/x-python",
   "name": "python",
   "nbconvert_exporter": "python",
   "pygments_lexer": "ipython3",
   "version": "3.8.13"
  }
 },
 "nbformat": 4,
 "nbformat_minor": 5
}
