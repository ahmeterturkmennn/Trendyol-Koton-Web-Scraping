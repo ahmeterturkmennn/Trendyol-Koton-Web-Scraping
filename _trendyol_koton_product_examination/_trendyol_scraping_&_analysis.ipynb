{
 "cells": [
  {
   "cell_type": "markdown",
   "id": "567668e2",
   "metadata": {},
   "source": [
    "### Importing Libraries and Checking Permission of Scraping"
   ]
  },
  {
   "cell_type": "code",
   "execution_count": 211,
   "id": "345a6f72",
   "metadata": {
    "scrolled": true
   },
   "outputs": [
    {
     "data": {
      "text/plain": [
       "<Response [200]>"
      ]
     },
     "execution_count": 211,
     "metadata": {},
     "output_type": "execute_result"
    }
   ],
   "source": [
    "from bs4 import BeautifulSoup\n",
    "import requests\n",
    "url=\"https://www.trendyol.com/sr?q=koton&qt=koton&st=koton&os=1&pi=1\"\n",
    "html_text=requests.get(url)\n",
    "html_text"
   ]
  },
  {
   "cell_type": "markdown",
   "id": "35d2c5e6",
   "metadata": {},
   "source": [
    "### Finding URLs to Scrape"
   ]
  },
  {
   "cell_type": "code",
   "execution_count": 212,
   "id": "28e03743",
   "metadata": {},
   "outputs": [],
   "source": [
    "brands=[\"defacto\",\"koton\",\"nike\",\"adidas\",\n",
    "        \"apple\",\"puma\",\"pull%20and%20bear\",\"bershka\",\"samsung\",\n",
    "       \"penti\",\"mavi\",\"mango\"]\n",
    "to_scrape=[]\n",
    "for i in range(1,10):\n",
    "    for brand in brands:\n",
    "    \n",
    "\n",
    "        urll=\"https://www.trendyol.com/sr?q=\"+brand+\"&qt=\"+brand+\"&st=\"+brand+\"&os=1&pi=\"+str(i)\n",
    "        to_scrape.append(urll)\n",
    "        \n",
    "urls=to_scrape"
   ]
  },
  {
   "cell_type": "markdown",
   "id": "b4f8a232",
   "metadata": {},
   "source": [
    "### Pulling Data in XML Format & Extracting Features of Product"
   ]
  },
  {
   "cell_type": "code",
   "execution_count": 213,
   "id": "c83e6a51",
   "metadata": {},
   "outputs": [
    {
     "name": "stdout",
     "output_type": "stream",
     "text": [
      "Done\n"
     ]
    }
   ],
   "source": [
    "import numpy as np\n",
    "with open(\"finall_trendyol.txt\",\"w\",encoding=\"utf-8\") as f:    \n",
    "    f.write(\"Brand,Product,Price,Reviews,Like,Seller Rank\\n\")\n",
    "    for url in urls:\n",
    "        html_text=requests.get(url)\n",
    "        soup=BeautifulSoup(html_text.text,\"lxml\")\n",
    "        prods=soup.find_all(\"div\",class_=\"p-card-wrppr\")\n",
    "        for prod in prods:\n",
    "            more=prod.a[\"href\"]\n",
    "        \n",
    "            url2=\"https://www.trendyol.com/\"+more\n",
    "        \n",
    "            html_text2=requests.get(url2)\n",
    "            soup2=BeautifulSoup(html_text2.text,\"lxml\")\n",
    "            try:    \n",
    "                like=soup2.find(\"div\",class_=\"fv-dt\").text.split()[0]\n",
    "                \n",
    "            except:\n",
    "                like=np.nan\n",
    "            try:    \n",
    "                shipment_due_in=soup2.find(\"div\",class_=\"pr-dd\").text.split(\":\")[1].split()[0]\n",
    "            \n",
    "            except:\n",
    "                shipment_due_in=np.nan\n",
    "                \n",
    "            try:\n",
    "                color=soup2.find(\"li\",class_=\"detail-attr-item\")\n",
    "            except:\n",
    "                color=np.nan\n",
    "            try:    \n",
    "                seller_rank=soup2.find(\"div\",class_=\"sl-pn\").text\n",
    "            \n",
    "            except:\n",
    "                seller_rank=np.nan\n",
    "               \n",
    "            try:\n",
    "                brand=prod.find(\"span\",class_=\"prdct-desc-cntnr-ttl\").text\n",
    "            except:\n",
    "                brand = np.nan\n",
    "            try:\n",
    "                prods_name=prod.find(\"span\",class_=\"prdct-desc-cntnr-name hasRatings\").text\n",
    "            except:\n",
    "                prods_name = np.nan\n",
    "            try:\n",
    "                price_in_tl=prod.find(\"div\",class_=\"prc-box-dscntd\").text.split()[0]\n",
    "                price=price_in_tl.split(\",\")\n",
    "                if len(price)==2:\n",
    "                    price_in_tl=price[1]\n",
    "            except:\n",
    "                price_in_tl = np.nan\n",
    "            try:\n",
    "                review_count=prod.find(\"span\",class_=\"ratingCount\").text[1:-1]\n",
    "            except:\n",
    "                review_count = np.nan\n",
    "\n",
    "            f.write(brand+\",\")\n",
    "            f.write(str(prods_name)+\",\")\n",
    "            f.write(price_in_tl+\",\")\n",
    "            f.write(str(review_count)+\",\")\n",
    "            f.write(str(like)+\",\")\n",
    "            f.write(str(seller_rank))\n",
    "            \n",
    "            f.write(\"\\n\")\n",
    "print(\"Done\")\n"
   ]
  },
  {
   "cell_type": "markdown",
   "id": "62e0d731",
   "metadata": {},
   "source": [
    "###### For individual extraction of data,"
   ]
  },
  {
   "cell_type": "markdown",
   "id": "83285227",
   "metadata": {},
   "source": [
    "\"\"\"brand=soup.find(\"span\",class_=\"prdct-desc-cntnr-ttl\").text\n",
    "prod=soup.find(\"span\",class_=\"prdct-desc-cntnr-name hasRatings\").text\n",
    "price_in_tl=soup.find(\"div\",class_=\"prc-box-dscntd\").text.split()[0]\n",
    "review_count=soup.find(\"span\",class_=\"ratingCount\").text\"\"\" "
   ]
  },
  {
   "cell_type": "code",
   "execution_count": 240,
   "id": "ca5a6787",
   "metadata": {},
   "outputs": [],
   "source": [
    "import pandas as pd\n",
    "\n",
    "df = pd.read_csv(\"trend.csv\", on_bad_lines='skip')"
   ]
  },
  {
   "cell_type": "code",
   "execution_count": 241,
   "id": "3bd9ad71",
   "metadata": {},
   "outputs": [
    {
     "data": {
      "text/html": [
       "<div>\n",
       "<style scoped>\n",
       "    .dataframe tbody tr th:only-of-type {\n",
       "        vertical-align: middle;\n",
       "    }\n",
       "\n",
       "    .dataframe tbody tr th {\n",
       "        vertical-align: top;\n",
       "    }\n",
       "\n",
       "    .dataframe thead th {\n",
       "        text-align: right;\n",
       "    }\n",
       "</style>\n",
       "<table border=\"1\" class=\"dataframe\">\n",
       "  <thead>\n",
       "    <tr style=\"text-align: right;\">\n",
       "      <th></th>\n",
       "      <th>Brand</th>\n",
       "      <th>Product</th>\n",
       "      <th>Price</th>\n",
       "      <th>Reviews</th>\n",
       "      <th>Like</th>\n",
       "      <th>Seller Rank</th>\n",
       "    </tr>\n",
       "  </thead>\n",
       "  <tbody>\n",
       "    <tr>\n",
       "      <th>0</th>\n",
       "      <td>Defacto</td>\n",
       "      <td>Kadın Pink Parfüm 50 Ml L8103AZNSPN</td>\n",
       "      <td>99.0</td>\n",
       "      <td>2538.0</td>\n",
       "      <td>82401.0</td>\n",
       "      <td>9.5</td>\n",
       "    </tr>\n",
       "    <tr>\n",
       "      <th>1</th>\n",
       "      <td>Defacto</td>\n",
       "      <td>Kadın Trendy Girl Elegant Parfüm 50 Ml K0437AZ...</td>\n",
       "      <td>99.0</td>\n",
       "      <td>211.0</td>\n",
       "      <td>12024.0</td>\n",
       "      <td>9.3</td>\n",
       "    </tr>\n",
       "    <tr>\n",
       "      <th>2</th>\n",
       "      <td>Defacto</td>\n",
       "      <td>Slogan Payet Baskılı Relax Fit Kısa Kollu Tişört</td>\n",
       "      <td>99.0</td>\n",
       "      <td>8.0</td>\n",
       "      <td>421.0</td>\n",
       "      <td>NaN</td>\n",
       "    </tr>\n",
       "    <tr>\n",
       "      <th>3</th>\n",
       "      <td>Defacto</td>\n",
       "      <td>Regular Fit V Yaka Kısa Kollu Tişört</td>\n",
       "      <td>99.0</td>\n",
       "      <td>482.0</td>\n",
       "      <td>57310.0</td>\n",
       "      <td>NaN</td>\n",
       "    </tr>\n",
       "    <tr>\n",
       "      <th>4</th>\n",
       "      <td>Defacto</td>\n",
       "      <td>Kadın Suni Deri 3'lü Elbise Kemeri</td>\n",
       "      <td>99.0</td>\n",
       "      <td>815.0</td>\n",
       "      <td>50290.0</td>\n",
       "      <td>NaN</td>\n",
       "    </tr>\n",
       "  </tbody>\n",
       "</table>\n",
       "</div>"
      ],
      "text/plain": [
       "     Brand                                            Product  Price  Reviews  \\\n",
       "0  Defacto                Kadın Pink Parfüm 50 Ml L8103AZNSPN   99.0   2538.0   \n",
       "1  Defacto  Kadın Trendy Girl Elegant Parfüm 50 Ml K0437AZ...   99.0    211.0   \n",
       "2  Defacto   Slogan Payet Baskılı Relax Fit Kısa Kollu Tişört   99.0      8.0   \n",
       "3  Defacto               Regular Fit V Yaka Kısa Kollu Tişört   99.0    482.0   \n",
       "4  Defacto                 Kadın Suni Deri 3'lü Elbise Kemeri   99.0    815.0   \n",
       "\n",
       "      Like  Seller Rank  \n",
       "0  82401.0          9.5  \n",
       "1  12024.0          9.3  \n",
       "2    421.0          NaN  \n",
       "3  57310.0          NaN  \n",
       "4  50290.0          NaN  "
      ]
     },
     "execution_count": 241,
     "metadata": {},
     "output_type": "execute_result"
    }
   ],
   "source": [
    "df.head()"
   ]
  },
  {
   "cell_type": "markdown",
   "id": "9cc3bfd5",
   "metadata": {},
   "source": [
    "As seen, unwanted stores appeared in dataframe. Let us clean them."
   ]
  },
  {
   "cell_type": "code",
   "execution_count": 242,
   "id": "3caa1e4a",
   "metadata": {},
   "outputs": [
    {
     "data": {
      "text/html": [
       "<div>\n",
       "<style scoped>\n",
       "    .dataframe tbody tr th:only-of-type {\n",
       "        vertical-align: middle;\n",
       "    }\n",
       "\n",
       "    .dataframe tbody tr th {\n",
       "        vertical-align: top;\n",
       "    }\n",
       "\n",
       "    .dataframe thead th {\n",
       "        text-align: right;\n",
       "    }\n",
       "</style>\n",
       "<table border=\"1\" class=\"dataframe\">\n",
       "  <thead>\n",
       "    <tr style=\"text-align: right;\">\n",
       "      <th></th>\n",
       "      <th>Brand</th>\n",
       "      <th>Product</th>\n",
       "      <th>Price</th>\n",
       "      <th>Reviews</th>\n",
       "      <th>Like</th>\n",
       "      <th>Seller Rank</th>\n",
       "    </tr>\n",
       "  </thead>\n",
       "  <tbody>\n",
       "    <tr>\n",
       "      <th>0</th>\n",
       "      <td>Defacto</td>\n",
       "      <td>Kadın Pink Parfüm 50 Ml L8103AZNSPN</td>\n",
       "      <td>99.0</td>\n",
       "      <td>2538.0</td>\n",
       "      <td>82401.0</td>\n",
       "      <td>9.5</td>\n",
       "    </tr>\n",
       "    <tr>\n",
       "      <th>1</th>\n",
       "      <td>Defacto</td>\n",
       "      <td>Kadın Trendy Girl Elegant Parfüm 50 Ml K0437AZ...</td>\n",
       "      <td>99.0</td>\n",
       "      <td>211.0</td>\n",
       "      <td>12024.0</td>\n",
       "      <td>9.3</td>\n",
       "    </tr>\n",
       "    <tr>\n",
       "      <th>2</th>\n",
       "      <td>Defacto</td>\n",
       "      <td>Slogan Payet Baskılı Relax Fit Kısa Kollu Tişört</td>\n",
       "      <td>99.0</td>\n",
       "      <td>8.0</td>\n",
       "      <td>421.0</td>\n",
       "      <td>NaN</td>\n",
       "    </tr>\n",
       "    <tr>\n",
       "      <th>3</th>\n",
       "      <td>Defacto</td>\n",
       "      <td>Regular Fit V Yaka Kısa Kollu Tişört</td>\n",
       "      <td>99.0</td>\n",
       "      <td>482.0</td>\n",
       "      <td>57310.0</td>\n",
       "      <td>NaN</td>\n",
       "    </tr>\n",
       "    <tr>\n",
       "      <th>4</th>\n",
       "      <td>Defacto</td>\n",
       "      <td>Kadın Suni Deri 3'lü Elbise Kemeri</td>\n",
       "      <td>99.0</td>\n",
       "      <td>815.0</td>\n",
       "      <td>50290.0</td>\n",
       "      <td>NaN</td>\n",
       "    </tr>\n",
       "    <tr>\n",
       "      <th>...</th>\n",
       "      <td>...</td>\n",
       "      <td>...</td>\n",
       "      <td>...</td>\n",
       "      <td>...</td>\n",
       "      <td>...</td>\n",
       "      <td>...</td>\n",
       "    </tr>\n",
       "    <tr>\n",
       "      <th>2569</th>\n",
       "      <td>Mango</td>\n",
       "      <td>NaN</td>\n",
       "      <td>99.0</td>\n",
       "      <td>NaN</td>\n",
       "      <td>435.0</td>\n",
       "      <td>NaN</td>\n",
       "    </tr>\n",
       "    <tr>\n",
       "      <th>2570</th>\n",
       "      <td>Mango</td>\n",
       "      <td>Orta Bel Wide-leg Jean</td>\n",
       "      <td>99.0</td>\n",
       "      <td>15.0</td>\n",
       "      <td>1335.0</td>\n",
       "      <td>NaN</td>\n",
       "    </tr>\n",
       "    <tr>\n",
       "      <th>2571</th>\n",
       "      <td>Mango</td>\n",
       "      <td>Dökümlü Desenli Gömlek</td>\n",
       "      <td>99.0</td>\n",
       "      <td>7.0</td>\n",
       "      <td>1375.0</td>\n",
       "      <td>NaN</td>\n",
       "    </tr>\n",
       "    <tr>\n",
       "      <th>2572</th>\n",
       "      <td>Mango</td>\n",
       "      <td>Streç Mom Jean</td>\n",
       "      <td>99.0</td>\n",
       "      <td>75.0</td>\n",
       "      <td>11597.0</td>\n",
       "      <td>NaN</td>\n",
       "    </tr>\n",
       "    <tr>\n",
       "      <th>2573</th>\n",
       "      <td>Mango</td>\n",
       "      <td>Askılı Keten Tulum</td>\n",
       "      <td>99.0</td>\n",
       "      <td>5.0</td>\n",
       "      <td>2228.0</td>\n",
       "      <td>NaN</td>\n",
       "    </tr>\n",
       "  </tbody>\n",
       "</table>\n",
       "<p>2011 rows × 6 columns</p>\n",
       "</div>"
      ],
      "text/plain": [
       "        Brand                                            Product  Price  \\\n",
       "0     Defacto                Kadın Pink Parfüm 50 Ml L8103AZNSPN   99.0   \n",
       "1     Defacto  Kadın Trendy Girl Elegant Parfüm 50 Ml K0437AZ...   99.0   \n",
       "2     Defacto   Slogan Payet Baskılı Relax Fit Kısa Kollu Tişört   99.0   \n",
       "3     Defacto               Regular Fit V Yaka Kısa Kollu Tişört   99.0   \n",
       "4     Defacto                 Kadın Suni Deri 3'lü Elbise Kemeri   99.0   \n",
       "...       ...                                                ...    ...   \n",
       "2569    Mango                                                NaN   99.0   \n",
       "2570    Mango                             Orta Bel Wide-leg Jean   99.0   \n",
       "2571    Mango                             Dökümlü Desenli Gömlek   99.0   \n",
       "2572    Mango                                     Streç Mom Jean   99.0   \n",
       "2573    Mango                                 Askılı Keten Tulum   99.0   \n",
       "\n",
       "      Reviews     Like  Seller Rank  \n",
       "0      2538.0  82401.0          9.5  \n",
       "1       211.0  12024.0          9.3  \n",
       "2         8.0    421.0          NaN  \n",
       "3       482.0  57310.0          NaN  \n",
       "4       815.0  50290.0          NaN  \n",
       "...       ...      ...          ...  \n",
       "2569      NaN    435.0          NaN  \n",
       "2570     15.0   1335.0          NaN  \n",
       "2571      7.0   1375.0          NaN  \n",
       "2572     75.0  11597.0          NaN  \n",
       "2573      5.0   2228.0          NaN  \n",
       "\n",
       "[2011 rows x 6 columns]"
      ]
     },
     "execution_count": 242,
     "metadata": {},
     "output_type": "execute_result"
    }
   ],
   "source": [
    "bran=[\"Defacto\",\"Koton\",\"Nike\",\"adidas\",\n",
    "        \"Apple\",\"puma\",\"Bershka\",\"Samsung\",\n",
    "       \"Penti\",\"Mavi\",\"Mango\"]\n",
    "df=df[df[\"Brand\"].isin(bran)]\n",
    "df"
   ]
  },
  {
   "cell_type": "code",
   "execution_count": 243,
   "id": "9143c6de",
   "metadata": {},
   "outputs": [],
   "source": [
    "df.drop(df[df[\"Brand\"].isin([\"Samsung\",\"Apple\"])].index,inplace=True)"
   ]
  },
  {
   "cell_type": "markdown",
   "id": "e67a5c38",
   "metadata": {},
   "source": [
    "## Exploration of Data"
   ]
  },
  {
   "cell_type": "code",
   "execution_count": 244,
   "id": "8f42cce2",
   "metadata": {
    "scrolled": true
   },
   "outputs": [
    {
     "data": {
      "text/plain": [
       "Brand           object\n",
       "Product         object\n",
       "Price          float64\n",
       "Reviews        float64\n",
       "Like           float64\n",
       "Seller Rank    float64\n",
       "dtype: object"
      ]
     },
     "execution_count": 244,
     "metadata": {},
     "output_type": "execute_result"
    }
   ],
   "source": [
    "df.dtypes"
   ]
  },
  {
   "cell_type": "code",
   "execution_count": 245,
   "id": "86f6d282",
   "metadata": {},
   "outputs": [
    {
     "data": {
      "text/plain": [
       "Brand             0\n",
       "Product         190\n",
       "Price             0\n",
       "Reviews         190\n",
       "Like             28\n",
       "Seller Rank    1300\n",
       "dtype: int64"
      ]
     },
     "execution_count": 245,
     "metadata": {},
     "output_type": "execute_result"
    }
   ],
   "source": [
    "df.isnull().sum()"
   ]
  },
  {
   "cell_type": "code",
   "execution_count": 246,
   "id": "3ae81739",
   "metadata": {
    "scrolled": false
   },
   "outputs": [
    {
     "data": {
      "text/plain": [
       "Brand             0\n",
       "Product         190\n",
       "Price             0\n",
       "Reviews           0\n",
       "Like              0\n",
       "Seller Rank    1300\n",
       "dtype: int64"
      ]
     },
     "execution_count": 246,
     "metadata": {},
     "output_type": "execute_result"
    }
   ],
   "source": [
    "df[\"Product\"].dropna(inplace=True)\n",
    "df[\"Reviews\"].fillna(\"0\",inplace=True)\n",
    "df[\"Like\"].fillna(\"0\",inplace=True)\n",
    "df.isnull().sum()"
   ]
  },
  {
   "cell_type": "code",
   "execution_count": 247,
   "id": "85699f4a",
   "metadata": {
    "scrolled": false
   },
   "outputs": [
    {
     "data": {
      "text/plain": [
       "<seaborn.axisgrid.FacetGrid at 0x178e9109cd0>"
      ]
     },
     "execution_count": 247,
     "metadata": {},
     "output_type": "execute_result"
    },
    {
     "data": {
      "image/png": "[encoded data removed]",
      "text/plain": [
       "<Figure size 360x360 with 1 Axes>"
      ]
     },
     "metadata": {
      "needs_background": "light"
     },
     "output_type": "display_data"
    }
   ],
   "source": [
    "import seaborn as sns\n",
    "sns.displot(df[\"Seller Rank\"])"
   ]
  },
  {
   "cell_type": "code",
   "execution_count": 248,
   "id": "268757cb",
   "metadata": {},
   "outputs": [
    {
     "data": {
      "text/plain": [
       "8.960189573459715"
      ]
     },
     "execution_count": 248,
     "metadata": {},
     "output_type": "execute_result"
    }
   ],
   "source": [
    "df[\"Seller Rank\"].mean()"
   ]
  },
  {
   "cell_type": "markdown",
   "id": "cef28d03",
   "metadata": {},
   "source": [
    "###### NOTE:\n",
    "As we can see our rank is mostly distributed in 9-10 range. If we check mean of it we find it 9.1. We can use mean imputation technique in this model. Clearly we do not have large range (7-10) and it cannot go beyond."
   ]
  },
  {
   "cell_type": "code",
   "execution_count": 249,
   "id": "8b47a445",
   "metadata": {},
   "outputs": [],
   "source": [
    "df[\"Seller Rank\"].fillna(float(df['Seller Rank'].mean()), inplace=True)"
   ]
  },
  {
   "cell_type": "code",
   "execution_count": 250,
   "id": "4489c0a0",
   "metadata": {},
   "outputs": [
    {
     "data": {
      "text/plain": [
       "Brand            0\n",
       "Product        190\n",
       "Price            0\n",
       "Reviews          0\n",
       "Like             0\n",
       "Seller Rank      0\n",
       "dtype: int64"
      ]
     },
     "execution_count": 250,
     "metadata": {},
     "output_type": "execute_result"
    }
   ],
   "source": [
    "df.isnull().sum()"
   ]
  },
  {
   "cell_type": "code",
   "execution_count": 251,
   "id": "15951d2c",
   "metadata": {},
   "outputs": [],
   "source": [
    "df[\"Like\"]=df[\"Like\"].astype(\"int\")\n",
    "df[\"Reviews\"]=df[\"Reviews\"].astype(\"int\")"
   ]
  },
  {
   "cell_type": "code",
   "execution_count": 252,
   "id": "0b1cdc4b",
   "metadata": {
    "scrolled": true
   },
   "outputs": [
    {
     "data": {
      "text/html": [
       "<div>\n",
       "<style scoped>\n",
       "    .dataframe tbody tr th:only-of-type {\n",
       "        vertical-align: middle;\n",
       "    }\n",
       "\n",
       "    .dataframe tbody tr th {\n",
       "        vertical-align: top;\n",
       "    }\n",
       "\n",
       "    .dataframe thead th {\n",
       "        text-align: right;\n",
       "    }\n",
       "</style>\n",
       "<table border=\"1\" class=\"dataframe\">\n",
       "  <thead>\n",
       "    <tr style=\"text-align: right;\">\n",
       "      <th></th>\n",
       "      <th>Price</th>\n",
       "      <th>Reviews</th>\n",
       "      <th>Like</th>\n",
       "      <th>Seller Rank</th>\n",
       "    </tr>\n",
       "  </thead>\n",
       "  <tbody>\n",
       "    <tr>\n",
       "      <th>count</th>\n",
       "      <td>1722.000000</td>\n",
       "      <td>1722.000000</td>\n",
       "      <td>1722.000000</td>\n",
       "      <td>1722.000000</td>\n",
       "    </tr>\n",
       "    <tr>\n",
       "      <th>mean</th>\n",
       "      <td>142.084407</td>\n",
       "      <td>156.911150</td>\n",
       "      <td>8651.277003</td>\n",
       "      <td>8.960190</td>\n",
       "    </tr>\n",
       "    <tr>\n",
       "      <th>std</th>\n",
       "      <td>183.386153</td>\n",
       "      <td>780.629552</td>\n",
       "      <td>18357.793166</td>\n",
       "      <td>0.349309</td>\n",
       "    </tr>\n",
       "    <tr>\n",
       "      <th>min</th>\n",
       "      <td>1.000000</td>\n",
       "      <td>0.000000</td>\n",
       "      <td>0.000000</td>\n",
       "      <td>6.800000</td>\n",
       "    </tr>\n",
       "    <tr>\n",
       "      <th>25%</th>\n",
       "      <td>95.000000</td>\n",
       "      <td>5.000000</td>\n",
       "      <td>1287.250000</td>\n",
       "      <td>8.960190</td>\n",
       "    </tr>\n",
       "    <tr>\n",
       "      <th>50%</th>\n",
       "      <td>99.000000</td>\n",
       "      <td>24.000000</td>\n",
       "      <td>3303.500000</td>\n",
       "      <td>8.960190</td>\n",
       "    </tr>\n",
       "    <tr>\n",
       "      <th>75%</th>\n",
       "      <td>99.000000</td>\n",
       "      <td>82.750000</td>\n",
       "      <td>9050.250000</td>\n",
       "      <td>8.960190</td>\n",
       "    </tr>\n",
       "    <tr>\n",
       "      <th>max</th>\n",
       "      <td>999.000000</td>\n",
       "      <td>20005.000000</td>\n",
       "      <td>271203.000000</td>\n",
       "      <td>10.000000</td>\n",
       "    </tr>\n",
       "  </tbody>\n",
       "</table>\n",
       "</div>"
      ],
      "text/plain": [
       "             Price       Reviews           Like  Seller Rank\n",
       "count  1722.000000   1722.000000    1722.000000  1722.000000\n",
       "mean    142.084407    156.911150    8651.277003     8.960190\n",
       "std     183.386153    780.629552   18357.793166     0.349309\n",
       "min       1.000000      0.000000       0.000000     6.800000\n",
       "25%      95.000000      5.000000    1287.250000     8.960190\n",
       "50%      99.000000     24.000000    3303.500000     8.960190\n",
       "75%      99.000000     82.750000    9050.250000     8.960190\n",
       "max     999.000000  20005.000000  271203.000000    10.000000"
      ]
     },
     "execution_count": 252,
     "metadata": {},
     "output_type": "execute_result"
    }
   ],
   "source": [
    "df.describe()"
   ]
  },
  {
   "cell_type": "code",
   "execution_count": 253,
   "id": "f36cbb25",
   "metadata": {
    "scrolled": false
   },
   "outputs": [
    {
     "name": "stdout",
     "output_type": "stream",
     "text": [
      "<class 'pandas.core.frame.DataFrame'>\n",
      "Int64Index: 1722 entries, 0 to 2573\n",
      "Data columns (total 6 columns):\n",
      " #   Column       Non-Null Count  Dtype  \n",
      "---  ------       --------------  -----  \n",
      " 0   Brand        1722 non-null   object \n",
      " 1   Product      1532 non-null   object \n",
      " 2   Price        1722 non-null   float64\n",
      " 3   Reviews      1722 non-null   int32  \n",
      " 4   Like         1722 non-null   int32  \n",
      " 5   Seller Rank  1722 non-null   float64\n",
      "dtypes: float64(2), int32(2), object(2)\n",
      "memory usage: 80.7+ KB\n"
     ]
    }
   ],
   "source": [
    "df.info()"
   ]
  },
  {
   "cell_type": "markdown",
   "id": "4ff71905",
   "metadata": {},
   "source": [
    "### Let us compare popularities of our brands with respect to their review count."
   ]
  },
  {
   "cell_type": "code",
   "execution_count": 254,
   "id": "54092e26",
   "metadata": {
    "scrolled": true
   },
   "outputs": [],
   "source": [
    "df_=df.groupby(\"Brand\").sum()"
   ]
  },
  {
   "cell_type": "code",
   "execution_count": 255,
   "id": "d70a79d8",
   "metadata": {},
   "outputs": [],
   "source": [
    "df_[\"Brand\"]=df_.index"
   ]
  },
  {
   "cell_type": "code",
   "execution_count": 256,
   "id": "9555519e",
   "metadata": {
    "scrolled": true
   },
   "outputs": [
    {
     "data": {
      "text/html": [
       "<div>\n",
       "<style scoped>\n",
       "    .dataframe tbody tr th:only-of-type {\n",
       "        vertical-align: middle;\n",
       "    }\n",
       "\n",
       "    .dataframe tbody tr th {\n",
       "        vertical-align: top;\n",
       "    }\n",
       "\n",
       "    .dataframe thead th {\n",
       "        text-align: right;\n",
       "    }\n",
       "</style>\n",
       "<table border=\"1\" class=\"dataframe\">\n",
       "  <thead>\n",
       "    <tr style=\"text-align: right;\">\n",
       "      <th></th>\n",
       "      <th>Price</th>\n",
       "      <th>Reviews</th>\n",
       "      <th>Like</th>\n",
       "      <th>Seller Rank</th>\n",
       "      <th>Brand</th>\n",
       "    </tr>\n",
       "    <tr>\n",
       "      <th>Brand</th>\n",
       "      <th></th>\n",
       "      <th></th>\n",
       "      <th></th>\n",
       "      <th></th>\n",
       "      <th></th>\n",
       "    </tr>\n",
       "  </thead>\n",
       "  <tbody>\n",
       "    <tr>\n",
       "      <th>adidas</th>\n",
       "      <td>68718.958</td>\n",
       "      <td>31904</td>\n",
       "      <td>1643656</td>\n",
       "      <td>1910.139336</td>\n",
       "      <td>adidas</td>\n",
       "    </tr>\n",
       "    <tr>\n",
       "      <th>Nike</th>\n",
       "      <td>55262.291</td>\n",
       "      <td>21140</td>\n",
       "      <td>1753693</td>\n",
       "      <td>1953.300474</td>\n",
       "      <td>Nike</td>\n",
       "    </tr>\n",
       "    <tr>\n",
       "      <th>Mavi</th>\n",
       "      <td>22472.000</td>\n",
       "      <td>41236</td>\n",
       "      <td>1852663</td>\n",
       "      <td>1945.537915</td>\n",
       "      <td>Mavi</td>\n",
       "    </tr>\n",
       "    <tr>\n",
       "      <th>Mango</th>\n",
       "      <td>21371.000</td>\n",
       "      <td>6293</td>\n",
       "      <td>1193436</td>\n",
       "      <td>1935.400948</td>\n",
       "      <td>Mango</td>\n",
       "    </tr>\n",
       "    <tr>\n",
       "      <th>Defacto</th>\n",
       "      <td>21286.000</td>\n",
       "      <td>36943</td>\n",
       "      <td>2171292</td>\n",
       "      <td>1947.214692</td>\n",
       "      <td>Defacto</td>\n",
       "    </tr>\n",
       "    <tr>\n",
       "      <th>Koton</th>\n",
       "      <td>19598.000</td>\n",
       "      <td>9954</td>\n",
       "      <td>653782</td>\n",
       "      <td>1900.807109</td>\n",
       "      <td>Koton</td>\n",
       "    </tr>\n",
       "    <tr>\n",
       "      <th>Penti</th>\n",
       "      <td>18616.000</td>\n",
       "      <td>108757</td>\n",
       "      <td>2972189</td>\n",
       "      <td>1946.445972</td>\n",
       "      <td>Penti</td>\n",
       "    </tr>\n",
       "    <tr>\n",
       "      <th>Bershka</th>\n",
       "      <td>17345.099</td>\n",
       "      <td>13974</td>\n",
       "      <td>2656788</td>\n",
       "      <td>1890.600000</td>\n",
       "      <td>Bershka</td>\n",
       "    </tr>\n",
       "  </tbody>\n",
       "</table>\n",
       "</div>"
      ],
      "text/plain": [
       "             Price  Reviews     Like  Seller Rank    Brand\n",
       "Brand                                                     \n",
       "adidas   68718.958    31904  1643656  1910.139336   adidas\n",
       "Nike     55262.291    21140  1753693  1953.300474     Nike\n",
       "Mavi     22472.000    41236  1852663  1945.537915     Mavi\n",
       "Mango    21371.000     6293  1193436  1935.400948    Mango\n",
       "Defacto  21286.000    36943  2171292  1947.214692  Defacto\n",
       "Koton    19598.000     9954   653782  1900.807109    Koton\n",
       "Penti    18616.000   108757  2972189  1946.445972    Penti\n",
       "Bershka  17345.099    13974  2656788  1890.600000  Bershka"
      ]
     },
     "execution_count": 256,
     "metadata": {},
     "output_type": "execute_result"
    }
   ],
   "source": [
    "df_=df_.sort_values(\"Price\",ascending=False)\n",
    "df_"
   ]
  },
  {
   "cell_type": "code",
   "execution_count": 257,
   "id": "b55dc145",
   "metadata": {
    "scrolled": true
   },
   "outputs": [
    {
     "data": {
      "text/plain": [
       "Text(0.5, 1.0, 'Distribution of Market')"
      ]
     },
     "execution_count": 257,
     "metadata": {},
     "output_type": "execute_result"
    },
    {
     "data": {
      "image/png": "[encoded data removed]",
      "text/plain": [
       "<Figure size 432x288 with 1 Axes>"
      ]
     },
     "metadata": {
      "needs_background": "light"
     },
     "output_type": "display_data"
    }
   ],
   "source": [
    "import matplotlib.pyplot as plt\n",
    "sns.barplot(y=\"Brand\", x=\"Price\", data=df_,orient=\"h\"\n",
    "                 ,palette=\"Blues_d\")\n",
    "plt.xlabel(\"Sum of Prices of Products\")\n",
    "plt.title(\"Distribution of Market\")"
   ]
  },
  {
   "cell_type": "markdown",
   "id": "6a38bbcb",
   "metadata": {},
   "source": [
    "You can see total volume distribution of brands' products in the market. Adidas and Nike seems to compose almost half of the market. This chart indicates sum of prices of products which each brand listed on trendyol."
   ]
  },
  {
   "cell_type": "code",
   "execution_count": null,
   "id": "8177c971",
   "metadata": {
    "scrolled": true
   },
   "outputs": [],
   "source": []
  },
  {
   "cell_type": "markdown",
   "id": "5cea532d",
   "metadata": {},
   "source": [
    "### Let us compare quality of our brands with respect to their like count."
   ]
  },
  {
   "cell_type": "code",
   "execution_count": 258,
   "id": "ebec5f9c",
   "metadata": {},
   "outputs": [
    {
     "data": {
      "text/plain": [
       "Text(0.5, 1.0, 'Popularities of Brands')"
      ]
     },
     "execution_count": 258,
     "metadata": {},
     "output_type": "execute_result"
    },
    {
     "data": {
      "image/png": "[encoded data removed]",
      "text/plain": [
       "<Figure size 432x288 with 1 Axes>"
      ]
     },
     "metadata": {
      "needs_background": "light"
     },
     "output_type": "display_data"
    }
   ],
   "source": [
    "df_=df.groupby(\"Brand\").mean()\n",
    "df_[\"Brand\"]=df_.index\n",
    "df_=df_.sort_values(\"Like\",ascending=False)\n",
    "sns.barplot(y=\"Brand\", x=\"Like\", data=df_,orient=\"h\"\n",
    "                 ,palette=\"rocket\")\n",
    "plt.xlabel(\"Average Likes of Products\")\n",
    "plt.title(\"Popularities of Brands\")"
   ]
  },
  {
   "cell_type": "markdown",
   "id": "ae297fdf",
   "metadata": {},
   "source": [
    "You can see customer satisfaction rate is at most in Penti. It is followed by Bershka, Apple, Defacto so on. Even though adidas and Nike sells the most expensive products, these products do not seem to satisfy customers. Koton also seems in the same situation. Mavi seems moderate"
   ]
  },
  {
   "cell_type": "code",
   "execution_count": 259,
   "id": "47fe090e",
   "metadata": {},
   "outputs": [
    {
     "data": {
      "text/plain": [
       "Index(['Brand', 'Product', 'Price', 'Reviews', 'Like', 'Seller Rank'], dtype='object')"
      ]
     },
     "execution_count": 259,
     "metadata": {},
     "output_type": "execute_result"
    }
   ],
   "source": [
    "df.columns"
   ]
  },
  {
   "cell_type": "markdown",
   "id": "d8a13704",
   "metadata": {},
   "source": [
    "## Checking Fake Stores"
   ]
  },
  {
   "cell_type": "markdown",
   "id": "afdc82dc",
   "metadata": {},
   "source": [
    "Let us also check the rank of the stores of the brands. The reason for adidas and Nike has low customer satisfaction, may be fake products. If the rank of the stores comes out low, we can predict so."
   ]
  },
  {
   "cell_type": "code",
   "execution_count": 260,
   "id": "92a87890",
   "metadata": {},
   "outputs": [
    {
     "data": {
      "text/html": [
       "<div>\n",
       "<style scoped>\n",
       "    .dataframe tbody tr th:only-of-type {\n",
       "        vertical-align: middle;\n",
       "    }\n",
       "\n",
       "    .dataframe tbody tr th {\n",
       "        vertical-align: top;\n",
       "    }\n",
       "\n",
       "    .dataframe thead th {\n",
       "        text-align: right;\n",
       "    }\n",
       "</style>\n",
       "<table border=\"1\" class=\"dataframe\">\n",
       "  <thead>\n",
       "    <tr style=\"text-align: right;\">\n",
       "      <th></th>\n",
       "      <th>Price</th>\n",
       "      <th>Reviews</th>\n",
       "      <th>Like</th>\n",
       "      <th>Seller Rank</th>\n",
       "    </tr>\n",
       "    <tr>\n",
       "      <th>Brand</th>\n",
       "      <th></th>\n",
       "      <th></th>\n",
       "      <th></th>\n",
       "      <th></th>\n",
       "    </tr>\n",
       "  </thead>\n",
       "  <tbody>\n",
       "    <tr>\n",
       "      <th>Nike</th>\n",
       "      <td>257.033912</td>\n",
       "      <td>98.325581</td>\n",
       "      <td>8156.711628</td>\n",
       "      <td>9.085118</td>\n",
       "    </tr>\n",
       "    <tr>\n",
       "      <th>Defacto</th>\n",
       "      <td>98.546296</td>\n",
       "      <td>171.032407</td>\n",
       "      <td>10052.277778</td>\n",
       "      <td>9.014883</td>\n",
       "    </tr>\n",
       "    <tr>\n",
       "      <th>Penti</th>\n",
       "      <td>86.185185</td>\n",
       "      <td>503.504630</td>\n",
       "      <td>13760.134259</td>\n",
       "      <td>9.011324</td>\n",
       "    </tr>\n",
       "    <tr>\n",
       "      <th>Mavi</th>\n",
       "      <td>104.037037</td>\n",
       "      <td>190.907407</td>\n",
       "      <td>8577.143519</td>\n",
       "      <td>9.007120</td>\n",
       "    </tr>\n",
       "    <tr>\n",
       "      <th>Bershka</th>\n",
       "      <td>82.204261</td>\n",
       "      <td>66.227488</td>\n",
       "      <td>12591.412322</td>\n",
       "      <td>8.960190</td>\n",
       "    </tr>\n",
       "    <tr>\n",
       "      <th>Mango</th>\n",
       "      <td>98.939815</td>\n",
       "      <td>29.134259</td>\n",
       "      <td>5525.166667</td>\n",
       "      <td>8.960190</td>\n",
       "    </tr>\n",
       "    <tr>\n",
       "      <th>adidas</th>\n",
       "      <td>318.143324</td>\n",
       "      <td>147.703704</td>\n",
       "      <td>7609.518519</td>\n",
       "      <td>8.843238</td>\n",
       "    </tr>\n",
       "    <tr>\n",
       "      <th>Koton</th>\n",
       "      <td>90.731481</td>\n",
       "      <td>46.083333</td>\n",
       "      <td>3026.768519</td>\n",
       "      <td>8.800033</td>\n",
       "    </tr>\n",
       "  </tbody>\n",
       "</table>\n",
       "</div>"
      ],
      "text/plain": [
       "              Price     Reviews          Like  Seller Rank\n",
       "Brand                                                     \n",
       "Nike     257.033912   98.325581   8156.711628     9.085118\n",
       "Defacto   98.546296  171.032407  10052.277778     9.014883\n",
       "Penti     86.185185  503.504630  13760.134259     9.011324\n",
       "Mavi     104.037037  190.907407   8577.143519     9.007120\n",
       "Bershka   82.204261   66.227488  12591.412322     8.960190\n",
       "Mango     98.939815   29.134259   5525.166667     8.960190\n",
       "adidas   318.143324  147.703704   7609.518519     8.843238\n",
       "Koton     90.731481   46.083333   3026.768519     8.800033"
      ]
     },
     "execution_count": 260,
     "metadata": {},
     "output_type": "execute_result"
    }
   ],
   "source": [
    "df.groupby(\"Brand\").mean().sort_values(\"Seller Rank\",ascending=False)"
   ]
  },
  {
   "cell_type": "markdown",
   "id": "e365abfd",
   "metadata": {},
   "source": [
    "The situation occured in adidas. Since nike has high seller rank relatively adidas, there might be fake product sales in adidas. We can infer this from the fact that both adidas and nike relatively low popularity, however adidas has gradually low in seller rank. Again, probably reason for that is fake product sales. "
   ]
  },
  {
   "cell_type": "code",
   "execution_count": 261,
   "id": "15ceb26d",
   "metadata": {},
   "outputs": [
    {
     "data": {
      "text/plain": [
       "Index(['Brand', 'Product', 'Price', 'Reviews', 'Like', 'Seller Rank'], dtype='object')"
      ]
     },
     "execution_count": 261,
     "metadata": {},
     "output_type": "execute_result"
    }
   ],
   "source": [
    "df.columns"
   ]
  },
  {
   "cell_type": "markdown",
   "id": "744e41d5",
   "metadata": {},
   "source": [
    "## Examining Correlance"
   ]
  },
  {
   "cell_type": "code",
   "execution_count": 262,
   "id": "ca3ec68b",
   "metadata": {
    "scrolled": true
   },
   "outputs": [
    {
     "data": {
      "text/plain": [
       "<AxesSubplot:>"
      ]
     },
     "execution_count": 262,
     "metadata": {},
     "output_type": "execute_result"
    },
    {
     "data": {
      "image/png": "[encoded data removed]",
      "text/plain": [
       "<Figure size 432x288 with 2 Axes>"
      ]
     },
     "metadata": {
      "needs_background": "light"
     },
     "output_type": "display_data"
    }
   ],
   "source": [
    "sns.heatmap(df.corr())\n"
   ]
  },
  {
   "cell_type": "markdown",
   "id": "d9b28ff2",
   "metadata": {},
   "source": [
    "You can see there is strong correlance between reviews and likes of products as expected. "
   ]
  },
  {
   "cell_type": "markdown",
   "id": "04ff2fa2",
   "metadata": {},
   "source": [
    "There is also correlance between price and like,again, as expected."
   ]
  },
  {
   "cell_type": "code",
   "execution_count": 263,
   "id": "c8b24ed0",
   "metadata": {
    "scrolled": false
   },
   "outputs": [
    {
     "data": {
      "text/plain": [
       "Defacto    216\n",
       "Koton      216\n",
       "adidas     216\n",
       "Penti      216\n",
       "Mavi       216\n",
       "Mango      216\n",
       "Nike       215\n",
       "Bershka    211\n",
       "Name: Brand, dtype: int64"
      ]
     },
     "execution_count": 263,
     "metadata": {},
     "output_type": "execute_result"
    },
    {
     "data": {
      "image/png": "[encoded data removed]",
      "text/plain": [
       "<Figure size 360x360 with 1 Axes>"
      ]
     },
     "metadata": {
      "needs_background": "light"
     },
     "output_type": "display_data"
    },
    {
     "data": {
      "image/png": "[encoded data removed]",
      "text/plain": [
       "<Figure size 360x360 with 1 Axes>"
      ]
     },
     "metadata": {
      "needs_background": "light"
     },
     "output_type": "display_data"
    },
    {
     "data": {
      "image/png": "[encoded data removed]",
      "text/plain": [
       "<Figure size 360x360 with 1 Axes>"
      ]
     },
     "metadata": {
      "needs_background": "light"
     },
     "output_type": "display_data"
    },
    {
     "data": {
      "image/png": "[encoded data removed]",
      "text/plain": [
       "<Figure size 360x360 with 1 Axes>"
      ]
     },
     "metadata": {
      "needs_background": "light"
     },
     "output_type": "display_data"
    },
    {
     "data": {
      "image/png": "[encoded data removed]",
      "text/plain": [
       "<Figure size 360x360 with 1 Axes>"
      ]
     },
     "metadata": {
      "needs_background": "light"
     },
     "output_type": "display_data"
    },
    {
     "data": {
      "image/png": "[encoded data removed]",
      "text/plain": [
       "<Figure size 360x360 with 1 Axes>"
      ]
     },
     "metadata": {
      "needs_background": "light"
     },
     "output_type": "display_data"
    },
    {
     "data": {
      "image/png": "[encoded data removed]",
      "text/plain": [
       "<Figure size 360x360 with 1 Axes>"
      ]
     },
     "metadata": {
      "needs_background": "light"
     },
     "output_type": "display_data"
    },
    {
     "data": {
      "image/png": "[encoded data removed]",
      "text/plain": [
       "<Figure size 360x360 with 1 Axes>"
      ]
     },
     "metadata": {
      "needs_background": "light"
     },
     "output_type": "display_data"
    }
   ],
   "source": [
    "bran=[\"Defacto\",\"Koton\",\"Nike\",\"adidas\",\n",
    "        \"Bershka\", \n",
    "       \"Penti\",\"Mavi\",\"Mango\"]\n",
    "for a in bran:\n",
    "    sns.displot(df[df[\"Brand\"]==a][\"Price\"])\n",
    "    plt.title(a)\n",
    "df.Brand.value_counts()"
   ]
  },
  {
   "cell_type": "markdown",
   "id": "0d2125ca",
   "metadata": {},
   "source": [
    "You can see mango mavi, koton, defacto even bershka are distributed in small interval. However, adidas, Nike etc seems to have large price range."
   ]
  },
  {
   "cell_type": "code",
   "execution_count": 264,
   "id": "0eba681d",
   "metadata": {},
   "outputs": [
    {
     "data": {
      "text/plain": [
       "Index(['Brand', 'Product', 'Price', 'Reviews', 'Like', 'Seller Rank'], dtype='object')"
      ]
     },
     "execution_count": 264,
     "metadata": {},
     "output_type": "execute_result"
    }
   ],
   "source": [
    "df.columns"
   ]
  },
  {
   "cell_type": "code",
   "execution_count": 265,
   "id": "010dfcda",
   "metadata": {},
   "outputs": [
    {
     "data": {
      "text/plain": [
       "<seaborn.axisgrid.PairGrid at 0x178e14fcdc0>"
      ]
     },
     "execution_count": 265,
     "metadata": {},
     "output_type": "execute_result"
    },
    {
     "data": {
      "image/png": "[encoded data removed]",
      "text/plain": [
       "<Figure size 720x720 with 20 Axes>"
      ]
     },
     "metadata": {
      "needs_background": "light"
     },
     "output_type": "display_data"
    }
   ],
   "source": [
    "sns.pairplot(df)"
   ]
  },
  {
   "cell_type": "markdown",
   "id": "a7725383",
   "metadata": {},
   "source": [
    "From these pairplots we can infer products are clustered high seller rank low prices in price-seller rank perspective. Moreover, there seems tendency as reviews increases likes are also increased as expected. Also likes are clustered at high seller rank numbers (8-10) as expected. "
   ]
  },
  {
   "cell_type": "code",
   "execution_count": null,
   "id": "f4804ebe",
   "metadata": {},
   "outputs": [],
   "source": []
  }
 ],
 "metadata": {
  "kernelspec": {
   "display_name": "Python 3",
   "language": "python",
   "name": "python3"
  },
  "language_info": {
   "codemirror_mode": {
    "name": "ipython",
    "version": 3
   },
   "file_extension": ".py",
   "mimetype": "text/x-python",
   "name": "python",
   "nbconvert_exporter": "python",
   "pygments_lexer": "ipython3",
   "version": "3.8.13"
  }
 },
 "nbformat": 4,
 "nbformat_minor": 5
}
